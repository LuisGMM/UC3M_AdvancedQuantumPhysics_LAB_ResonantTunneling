{
 "cells": [
  {
   "cell_type": "code",
   "execution_count": 66,
   "metadata": {},
   "outputs": [],
   "source": [
    "import math\n",
    "\n",
    "from cmath import exp\n",
    "from math import atan\n",
    "import numpy as np\n",
    "\n",
    "import matplotlib.pyplot as plt"
   ]
  },
  {
   "cell_type": "code",
   "execution_count": 67,
   "metadata": {},
   "outputs": [],
   "source": [
    "k1 = k3 = k5 = 0\n",
    "\n",
    "x2 = x4 = 0\n",
    "\n",
    "w2 = w4 = 0\n",
    "\n",
    "i = 1j\n",
    "\n",
    "phi1 = phi2 = phi3 = phi4 = phi5 = 0"
   ]
  },
  {
   "cell_type": "code",
   "execution_count": 68,
   "metadata": {},
   "outputs": [],
   "source": [
    "me = 9.1093837e-31  # Kg\n",
    "hbar = 1.054571817e-34  # Js\n",
    "\n",
    "def k(E, V, m=me):\n",
    "    return math.sqrt(2 * m * (E - V)) / hbar\n",
    "\n",
    "def x(E, V, m=me):\n",
    "    return math.sqrt(2 * m * (V - E)) / hbar"
   ]
  },
  {
   "cell_type": "code",
   "execution_count": 69,
   "metadata": {},
   "outputs": [],
   "source": [
    "def K(k1: float, k3: float, k5: float, x2: float, x4: float, w2: float, w3: float, w4: float) -> complex:\n",
    "\n",
    "    phi1 = k3 * w3\n",
    "    phi2 = atan(x2 / k1)\n",
    "    phi3 = atan(x2 / k3)\n",
    "    phi4 = atan(x4 / k3)\n",
    "    phi5 = atan(x4 / k5)\n",
    "\n",
    "    return \\\n",
    "        exp(x2 * w2 + x4 * w4) \\\n",
    "        * (exp(i * (- phi1 + phi2 + phi3 + phi4 + phi5)) - exp(i * (phi1 + phi2 - phi3 - phi4 + phi5))) \\\n",
    "        + exp(x2 * w2 - x4 * w4) \\\n",
    "        * (- exp(i * (- phi1 + phi2 + phi3 - phi4 - phi5)) + exp(i * (phi1 + phi2 - phi3 + phi4 - phi5))) \\\n",
    "        + exp(- x2 * w2 + x4 * w4) \\\n",
    "        * (- exp(i * (- phi1 - phi2 - phi3 + phi4 + phi5)) + exp(i * (phi1 - phi2 + phi3 - phi4 + phi5))) \\\n",
    "        + exp(- x2 * w2 - x4 * w4) \\\n",
    "        * (- exp(i * (- phi1 - phi2 - phi3 - phi4 - phi5)) + exp(i * (phi1 - phi2 + phi3 + phi4 - phi5)))\n",
    "\n",
    "def T(k1: float, k3: float, k5: float, x2: float, x4: float, w2: float, w3: float, w4: float) -> float:\n",
    "\n",
    "    K_ = K(k1, k3, k5, x2, x4, w2, w3, w4)\n",
    "    Ksq = K_.conjugate() * K_\n",
    "\n",
    "    return \\\n",
    "        ((2 ** 8) * k1 * ((x2 * k3 * x4) ** 2 ) * k5 ) \\\n",
    "        / (Ksq * (k1**2 + x2**2) * (k3**2 + x2**2) * (k3**2 + x4**2) * (k5**2 + x4**2))\n"
   ]
  },
  {
   "cell_type": "markdown",
   "metadata": {},
   "source": [
    "## 4.1. Transmission of a symmetric double barrier"
   ]
  },
  {
   "cell_type": "markdown",
   "metadata": {},
   "source": [
    "1. Write a computer program with the software of your choice, to find the transmission coefficient of a symmetric double barrier and\n",
    "   transmission resonances (bound states energies of the double barrier\n",
    "   well). In the calculation use the expression of T given in page 4, Eq.1.\n",
    "   Use the parameters given in Fig. 8. Use the following masses, 0.067me for\n",
    "   the electron mass m* in left region, well and right region (effective mass of GaAs)\n",
    "   and the same mass 0.067me for the GaAlAs barriers; me being the bare electron mass.\n"
   ]
  },
  {
   "cell_type": "code",
   "execution_count": 79,
   "metadata": {},
   "outputs": [
    {
     "name": "stdout",
     "output_type": "stream",
     "text": [
      "0.0\n"
     ]
    },
    {
     "ename": "ZeroDivisionError",
     "evalue": "float division by zero",
     "output_type": "error",
     "traceback": [
      "\u001b[1;31m---------------------------------------------------------------------------\u001b[0m",
      "\u001b[1;31mZeroDivisionError\u001b[0m                         Traceback (most recent call last)",
      "Cell \u001b[1;32mIn [79], line 12\u001b[0m\n\u001b[0;32m      8\u001b[0m w3 \u001b[38;5;241m=\u001b[39m \u001b[38;5;241m0.6e-9\u001b[39m\n\u001b[0;32m     10\u001b[0m \u001b[38;5;28mprint\u001b[39m(k1)\n\u001b[1;32m---> 12\u001b[0m \u001b[38;5;28mprint\u001b[39m(\u001b[43mT\u001b[49m\u001b[43m(\u001b[49m\u001b[43mk1\u001b[49m\u001b[43m,\u001b[49m\u001b[43m \u001b[49m\u001b[43mk3\u001b[49m\u001b[43m,\u001b[49m\u001b[43m \u001b[49m\u001b[43mk5\u001b[49m\u001b[43m,\u001b[49m\u001b[43m \u001b[49m\u001b[43mx2\u001b[49m\u001b[43m,\u001b[49m\u001b[43m \u001b[49m\u001b[43mx4\u001b[49m\u001b[43m,\u001b[49m\u001b[43m \u001b[49m\u001b[43mw2\u001b[49m\u001b[43m,\u001b[49m\u001b[43m \u001b[49m\u001b[43mw3\u001b[49m\u001b[43m,\u001b[49m\u001b[43m \u001b[49m\u001b[43mw4\u001b[49m\u001b[43m)\u001b[49m)\n",
      "Cell \u001b[1;32mIn [69], line 21\u001b[0m, in \u001b[0;36mT\u001b[1;34m(k1, k3, k5, x2, x4, w2, w3, w4)\u001b[0m\n\u001b[0;32m     19\u001b[0m \u001b[38;5;28;01mdef\u001b[39;00m \u001b[38;5;21mT\u001b[39m(k1: \u001b[38;5;28mfloat\u001b[39m, k3: \u001b[38;5;28mfloat\u001b[39m, k5: \u001b[38;5;28mfloat\u001b[39m, x2: \u001b[38;5;28mfloat\u001b[39m, x4: \u001b[38;5;28mfloat\u001b[39m, w2: \u001b[38;5;28mfloat\u001b[39m, w3: \u001b[38;5;28mfloat\u001b[39m, w4: \u001b[38;5;28mfloat\u001b[39m) \u001b[38;5;241m-\u001b[39m\u001b[38;5;241m>\u001b[39m \u001b[38;5;28mfloat\u001b[39m:\n\u001b[1;32m---> 21\u001b[0m     K_ \u001b[38;5;241m=\u001b[39m \u001b[43mK\u001b[49m\u001b[43m(\u001b[49m\u001b[43mk1\u001b[49m\u001b[43m,\u001b[49m\u001b[43m \u001b[49m\u001b[43mk3\u001b[49m\u001b[43m,\u001b[49m\u001b[43m \u001b[49m\u001b[43mk5\u001b[49m\u001b[43m,\u001b[49m\u001b[43m \u001b[49m\u001b[43mx2\u001b[49m\u001b[43m,\u001b[49m\u001b[43m \u001b[49m\u001b[43mx4\u001b[49m\u001b[43m,\u001b[49m\u001b[43m \u001b[49m\u001b[43mw2\u001b[49m\u001b[43m,\u001b[49m\u001b[43m \u001b[49m\u001b[43mw3\u001b[49m\u001b[43m,\u001b[49m\u001b[43m \u001b[49m\u001b[43mw4\u001b[49m\u001b[43m)\u001b[49m\n\u001b[0;32m     22\u001b[0m     Ksq \u001b[38;5;241m=\u001b[39m K_\u001b[38;5;241m.\u001b[39mconjugate() \u001b[38;5;241m*\u001b[39m K_\n\u001b[0;32m     24\u001b[0m     \u001b[38;5;28;01mreturn\u001b[39;00m \\\n\u001b[0;32m     25\u001b[0m         ((\u001b[38;5;241m2\u001b[39m \u001b[38;5;241m*\u001b[39m\u001b[38;5;241m*\u001b[39m \u001b[38;5;241m8\u001b[39m) \u001b[38;5;241m*\u001b[39m k1 \u001b[38;5;241m*\u001b[39m ((x2 \u001b[38;5;241m*\u001b[39m k3 \u001b[38;5;241m*\u001b[39m x4) \u001b[38;5;241m*\u001b[39m\u001b[38;5;241m*\u001b[39m \u001b[38;5;241m2\u001b[39m ) \u001b[38;5;241m*\u001b[39m k5 ) \\\n\u001b[0;32m     26\u001b[0m         \u001b[38;5;241m/\u001b[39m (Ksq \u001b[38;5;241m*\u001b[39m (k1\u001b[38;5;241m*\u001b[39m\u001b[38;5;241m*\u001b[39m\u001b[38;5;241m2\u001b[39m \u001b[38;5;241m+\u001b[39m x2\u001b[38;5;241m*\u001b[39m\u001b[38;5;241m*\u001b[39m\u001b[38;5;241m2\u001b[39m) \u001b[38;5;241m*\u001b[39m (k3\u001b[38;5;241m*\u001b[39m\u001b[38;5;241m*\u001b[39m\u001b[38;5;241m2\u001b[39m \u001b[38;5;241m+\u001b[39m x2\u001b[38;5;241m*\u001b[39m\u001b[38;5;241m*\u001b[39m\u001b[38;5;241m2\u001b[39m) \u001b[38;5;241m*\u001b[39m (k3\u001b[38;5;241m*\u001b[39m\u001b[38;5;241m*\u001b[39m\u001b[38;5;241m2\u001b[39m \u001b[38;5;241m+\u001b[39m x4\u001b[38;5;241m*\u001b[39m\u001b[38;5;241m*\u001b[39m\u001b[38;5;241m2\u001b[39m) \u001b[38;5;241m*\u001b[39m (k5\u001b[38;5;241m*\u001b[39m\u001b[38;5;241m*\u001b[39m\u001b[38;5;241m2\u001b[39m \u001b[38;5;241m+\u001b[39m x4\u001b[38;5;241m*\u001b[39m\u001b[38;5;241m*\u001b[39m\u001b[38;5;241m2\u001b[39m))\n",
      "Cell \u001b[1;32mIn [69], line 4\u001b[0m, in \u001b[0;36mK\u001b[1;34m(k1, k3, k5, x2, x4, w2, w3, w4)\u001b[0m\n\u001b[0;32m      1\u001b[0m \u001b[38;5;28;01mdef\u001b[39;00m \u001b[38;5;21mK\u001b[39m(k1: \u001b[38;5;28mfloat\u001b[39m, k3: \u001b[38;5;28mfloat\u001b[39m, k5: \u001b[38;5;28mfloat\u001b[39m, x2: \u001b[38;5;28mfloat\u001b[39m, x4: \u001b[38;5;28mfloat\u001b[39m, w2: \u001b[38;5;28mfloat\u001b[39m, w3: \u001b[38;5;28mfloat\u001b[39m, w4: \u001b[38;5;28mfloat\u001b[39m) \u001b[38;5;241m-\u001b[39m\u001b[38;5;241m>\u001b[39m \u001b[38;5;28mcomplex\u001b[39m:\n\u001b[0;32m      3\u001b[0m     phi1 \u001b[38;5;241m=\u001b[39m k3 \u001b[38;5;241m*\u001b[39m w3\n\u001b[1;32m----> 4\u001b[0m     phi2 \u001b[38;5;241m=\u001b[39m atan(\u001b[43mx2\u001b[49m\u001b[43m \u001b[49m\u001b[38;5;241;43m/\u001b[39;49m\u001b[43m \u001b[49m\u001b[43mk1\u001b[49m)\n\u001b[0;32m      5\u001b[0m     phi3 \u001b[38;5;241m=\u001b[39m atan(x2 \u001b[38;5;241m/\u001b[39m k3)\n\u001b[0;32m      6\u001b[0m     phi4 \u001b[38;5;241m=\u001b[39m atan(x4 \u001b[38;5;241m/\u001b[39m k3)\n",
      "\u001b[1;31mZeroDivisionError\u001b[0m: float division by zero"
     ]
    }
   ],
   "source": [
    "\n",
    "E = 0\n",
    "V = 1\n",
    "m = 0.067 * me\n",
    "\n",
    "k1 = k3 = k5 = k(E, 0, m)\n",
    "x2 = x4 = x(E, V, m)\n",
    "w2 = w4 = 0.4e-9\n",
    "w3 = 0.6e-9\n",
    "\n",
    "print(T(k1, k3, k5, x2, x4, w2, w3, w4))"
   ]
  },
  {
   "cell_type": "code",
   "execution_count": 71,
   "metadata": {},
   "outputs": [],
   "source": [
    "\n",
    "def V(x: float) -> float:\n",
    "    \"\"\"Computes the potential of the exercise.\n",
    "\n",
    "    Parameters\n",
    "    ----------\n",
    "    x : float\n",
    "        Position in `m` at which the potential is computed.\n",
    "\n",
    "    Returns\n",
    "    -------\n",
    "    float\n",
    "        Potential in `eV`.\n",
    "    \"\"\"\n",
    "\n",
    "    return 0 if x < 0.2e-9 or 0.6e-9 < x < 1.2e-9 or 1.6e-9 < x else 1\n"
   ]
  },
  {
   "cell_type": "code",
   "execution_count": 72,
   "metadata": {},
   "outputs": [
    {
     "data": {
      "image/png": "[encoded data removed]",
      "text/plain": [
       "<Figure size 640x480 with 1 Axes>"
      ]
     },
     "metadata": {},
     "output_type": "display_data"
    }
   ],
   "source": [
    "\n",
    "x_ = np.arange(0e-9, 2e-9, 0.0025e-9)\n",
    "plt.plot(x_, [V(xi) for xi in x_], label=f'V(x)')\n",
    "plt.legend()\n",
    "plt.show()"
   ]
  },
  {
   "cell_type": "markdown",
   "metadata": {},
   "source": [
    "2. Represent in a graph the obtained results for the transmission\n",
    "   coefficient and obtain the energy of the possible well resonances that\n",
    "   would correspond to the energy of the electron bound states inside\n",
    "   the well. See Fig.3 as an example."
   ]
  },
  {
   "cell_type": "code",
   "execution_count": 73,
   "metadata": {},
   "outputs": [],
   "source": [
    "# T_ = T(k1, k3, k5, x2, x4, w2, w3, w4)"
   ]
  },
  {
   "cell_type": "markdown",
   "metadata": {},
   "source": [
    "## 4.2.Transmission of an asymmetric double barrier"
   ]
  },
  {
   "cell_type": "markdown",
   "metadata": {},
   "source": [
    "1. Case (a) Unequal double barrier (see Fig. 9)\n",
    "   Using the previous computer program, repeat the calculation for the\n",
    "   asymmetric double barrier using the same electron masses. Use the\n",
    "   parameters presented in Fig. 9. Represent the transmission coefficient\n",
    "   vs energy and obtain the resonances. "
   ]
  },
  {
   "cell_type": "code",
   "execution_count": 74,
   "metadata": {},
   "outputs": [],
   "source": [
    "E = 0\n",
    "V2 = 0.5\n",
    "V4 = 1.13\n",
    "m = 0.067 * me\n",
    "\n",
    "k1 = k3 = k5 = k(E, 0, m)\n",
    "x2 = x(E, V2, m)\n",
    "x4 = x(E, V4, m)\n",
    "w2 = 4e-9\n",
    "w4 = 3e-9"
   ]
  },
  {
   "cell_type": "markdown",
   "metadata": {},
   "source": [
    "2. Case (b) External bias (see Fig. 10)\n",
    "   Repeat the calculation but now apply a uniform electric field across\n",
    "   the double barrier and single well structure as shown in the Fig. 10.\n",
    "   Consider that the right barrier is 3 nm thick, the left one 4 nm thick\n",
    "   and the well width is 4 nm. The right-hand edge of the 3 nm-thick\n",
    "   barrier is at a potential −0_63eV below the left-hand edge of the 4 nm-thick barrier. Comment on the changes in transmission you\n",
    "   observe."
   ]
  },
  {
   "cell_type": "code",
   "execution_count": 75,
   "metadata": {},
   "outputs": [],
   "source": [
    "w2 = 4e-9\n",
    "w4 = 3e-9"
   ]
  },
  {
   "cell_type": "code",
   "execution_count": 76,
   "metadata": {},
   "outputs": [],
   "source": [
    "\n",
    "def V(x: float) -> float:\n",
    "    \"\"\"Computes the potential of the exercise.\n",
    "\n",
    "    Parameters\n",
    "    ----------\n",
    "    x : float\n",
    "        Position in `m` at which the potential is computed.\n",
    "\n",
    "    Returns\n",
    "    -------\n",
    "    float\n",
    "        Potential in `eV`.\n",
    "    \"\"\"\n",
    "\n",
    "    if x < 1e-9:\n",
    "        return 0\n",
    "\n",
    "    elif 1e-9 <= x < 5e-9:\n",
    "        return 0.4  # Mean of the top vertices of the potential barrier\n",
    "\n",
    "    elif 5e-9 <= x < 9e-9:  # Recycling the start of the second potential barrier from the last potential.\n",
    "        return -0.4 # Mean of the bottom vertices of the potential barrier\n",
    "\n",
    "    elif 9e-9 <= x < 12e-9:\n",
    "        return 0.6\n",
    "\n",
    "    else:\n",
    "        return -0.63\n"
   ]
  },
  {
   "cell_type": "code",
   "execution_count": 77,
   "metadata": {},
   "outputs": [
    {
     "data": {
      "image/png": "[encoded data removed]",
      "text/plain": [
       "<Figure size 640x480 with 1 Axes>"
      ]
     },
     "metadata": {},
     "output_type": "display_data"
    }
   ],
   "source": [
    "x_ = np.arange(0e-9, 15e-9, 0.0025e-9)\n",
    "plt.plot(x_, [V(xi) for xi in x_], label=f'V(x)')\n",
    "plt.legend()\n",
    "plt.show()"
   ]
  }
 ],
 "metadata": {
  "kernelspec": {
   "display_name": "Python 3.10.4 ('venv': venv)",
   "language": "python",
   "name": "python3"
  },
  "language_info": {
   "codemirror_mode": {
    "name": "ipython",
    "version": 3
   },
   "file_extension": ".py",
   "mimetype": "text/x-python",
   "name": "python",
   "nbconvert_exporter": "python",
   "pygments_lexer": "ipython3",
   "version": "3.10.4"
  },
  "orig_nbformat": 4,
  "vscode": {
   "interpreter": {
    "hash": "cd68861b3e32dc0043a3433851ca0320a673bf15c3418406ff01b128fe6f247c"
   }
  }
 },
 "nbformat": 4,
 "nbformat_minor": 2
}
