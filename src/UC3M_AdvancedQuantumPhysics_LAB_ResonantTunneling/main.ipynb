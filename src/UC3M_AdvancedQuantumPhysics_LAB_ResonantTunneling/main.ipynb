{
 "cells": [
  {
   "cell_type": "code",
   "execution_count": 48,
   "metadata": {},
   "outputs": [],
   "source": [
    "import math\n",
    "\n",
    "from cmath import exp\n",
    "from math import atan\n",
    "import numpy as np\n",
    "\n",
    "import matplotlib.pyplot as plt"
   ]
  },
  {
   "cell_type": "code",
   "execution_count": 49,
   "metadata": {},
   "outputs": [],
   "source": [
    "k1 = k3 = k5 = 0\n",
    "x2 = x4 = 0\n",
    "w2 = w4 = 0\n",
    "\n",
    "i = 1j\n",
    "\n",
    "phi1 = phi2 = phi3 = phi4 = phi5 = 0"
   ]
  },
  {
   "cell_type": "code",
   "execution_count": 50,
   "metadata": {},
   "outputs": [],
   "source": [
    "me = 9.1093837e-31  # Kg\n",
    "# me = 1.60217663e-19  # Coulombs\n",
    "hbar = 1.054571817e-34  # Js\n",
    "# hbar = 6.582119569e-16  # eV s\n",
    "\n",
    "def k(E, V, m=me):\n",
    "    return np.sqrt(2 * m * (E - V)) / hbar\n",
    "\n",
    "def X(E, V, m=me):\n",
    "    return np.sqrt(2 * m * (V - E)) / hbar"
   ]
  },
  {
   "cell_type": "code",
   "execution_count": 51,
   "metadata": {},
   "outputs": [],
   "source": [
    "def K(k1: float, k3: float, k5: float, x2: float, x4: float, w2: float, w3: float, w4: float) -> complex:\n",
    "\n",
    "    phi1 = k3 * w3\n",
    "    phi2 = np.arctan(x2 / k1)\n",
    "    phi3 = np.arctan(x2 / k3)\n",
    "    phi4 = np.arctan(x4 / k3)\n",
    "    phi5 = np.arctan(x4 / k5)\n",
    "\n",
    "    return \\\n",
    "        np.exp(x2 * w2 + x4 * w4) \\\n",
    "        * (np.exp(i * (- phi1 + phi2 + phi3 + phi4 + phi5)) - np.exp(i * (phi1 + phi2 - phi3 - phi4 + phi5))) \\\n",
    "        + np.exp(x2 * w2 - x4 * w4) \\\n",
    "        * (- np.exp(i * (- phi1 + phi2 + phi3 - phi4 - phi5)) + np.exp(i * (phi1 + phi2 - phi3 + phi4 - phi5))) \\\n",
    "        + np.exp(- x2 * w2 + x4 * w4) \\\n",
    "        * (- np.exp(i * (- phi1 - phi2 - phi3 + phi4 + phi5)) + np.exp(i * (phi1 - phi2 + phi3 - phi4 + phi5))) \\\n",
    "        + np.exp(- x2 * w2 - x4 * w4) \\\n",
    "        * (- np.exp(i * (- phi1 - phi2 - phi3 - phi4 - phi5)) + np.exp(i * (phi1 - phi2 + phi3 + phi4 - phi5)))\n",
    "\n",
    "def T(k1: float, k3: float, k5: float, x2: float, x4: float, w2: float, w3: float, w4: float) -> float:\n",
    "\n",
    "    K_ = K(k1, k3, k5, x2, x4, w2, w3, w4)\n",
    "    Ksq = K_.conjugate() * K_\n",
    "\n",
    "    return \\\n",
    "        ((((2 ** 8) * k1 * ((x2 * k3 * x4) ** 2 ) * k5 ) \\\n",
    "        / (Ksq * (k1**2 + x2**2) * (k3**2 + x2**2) * (k3**2 + x4**2) * (k5**2 + x4**2)))).real\n"
   ]
  },
  {
   "cell_type": "markdown",
   "metadata": {},
   "source": [
    "## 4.1. Transmission of a symmetric double barrier"
   ]
  },
  {
   "cell_type": "markdown",
   "metadata": {},
   "source": [
    "1. Write a computer program with the software of your choice, to find the transmission coefficient of a symmetric double barrier and\n",
    "   transmission resonances (bound states energies of the double barrier\n",
    "   well). In the calculation use the expression of T given in page 4, Eq.1.\n",
    "   Use the parameters given in Fig. 8. Use the following masses, 0.067me for\n",
    "   the electron mass m* in left region, well and right region (effective mass of GaAs)\n",
    "   and the same mass 0.067me for the GaAlAs barriers; me being the bare electron mass.\n"
   ]
  },
  {
   "cell_type": "code",
   "execution_count": 52,
   "metadata": {},
   "outputs": [],
   "source": [
    "\n",
    "def V(x: float) -> float:\n",
    "    \"\"\"Computes the potential of the exercise.\n",
    "\n",
    "    Parameters\n",
    "    ----------\n",
    "    x : float\n",
    "        Position in `m` at which the potential is computed.\n",
    "\n",
    "    Returns\n",
    "    -------\n",
    "    float\n",
    "        Potential in `eV`.\n",
    "    \"\"\"\n",
    "\n",
    "    return 0 if x < 0.2e-9 or 0.6e-9 < x < 1.2e-9 or 1.6e-9 < x else 1\n"
   ]
  },
  {
   "cell_type": "code",
   "execution_count": 53,
   "metadata": {},
   "outputs": [
    {
     "data": {
      "image/png": "[encoded data removed]",
      "text/plain": [
       "<Figure size 640x480 with 1 Axes>"
      ]
     },
     "metadata": {},
     "output_type": "display_data"
    }
   ],
   "source": [
    "\n",
    "x_ = np.arange(0e-9, 2e-9, 0.0025e-9)\n",
    "plt.plot(x_, [V(xi) for xi in x_], label=f'V(x)')\n",
    "plt.legend()\n",
    "plt.show()"
   ]
  },
  {
   "cell_type": "code",
   "execution_count": 68,
   "metadata": {},
   "outputs": [],
   "source": [
    "def T_at(E):\n",
    "\n",
    "    E_ = E * 1.6e-19\n",
    "\n",
    "    m = 0.067 * me\n",
    "    k1 = k3 = k5 = k(E_, 0, m)\n",
    "    x2 = x4 = X(E_, 1.6e-19, m)\n",
    "    w2 = w4 = 0.4e-9\n",
    "    w3 = 0.6e-9\n",
    "\n",
    "    return T(k1, k3, k5, x2, x4, w2, w3, w4)\n"
   ]
  },
  {
   "cell_type": "code",
   "execution_count": 69,
   "metadata": {},
   "outputs": [
    {
     "name": "stderr",
     "output_type": "stream",
     "text": [
      "C:\\Users\\luisg\\AppData\\Local\\Temp\\ipykernel_21468\\2234539345.py:4: RuntimeWarning: divide by zero encountered in double_scalars\n",
      "  phi2 = np.arctan(x2 / k1)\n",
      "C:\\Users\\luisg\\AppData\\Local\\Temp\\ipykernel_21468\\2234539345.py:5: RuntimeWarning: divide by zero encountered in double_scalars\n",
      "  phi3 = np.arctan(x2 / k3)\n",
      "C:\\Users\\luisg\\AppData\\Local\\Temp\\ipykernel_21468\\2234539345.py:6: RuntimeWarning: divide by zero encountered in double_scalars\n",
      "  phi4 = np.arctan(x4 / k3)\n",
      "C:\\Users\\luisg\\AppData\\Local\\Temp\\ipykernel_21468\\2234539345.py:7: RuntimeWarning: divide by zero encountered in double_scalars\n",
      "  phi5 = np.arctan(x4 / k5)\n",
      "C:\\Users\\luisg\\AppData\\Local\\Temp\\ipykernel_21468\\453482231.py:10: RuntimeWarning: invalid value encountered in sqrt\n",
      "  return np.sqrt(2 * m * (V - E)) / hbar\n",
      "C:\\Users\\luisg\\AppData\\Local\\Temp\\ipykernel_21468\\2234539345.py:25: RuntimeWarning: invalid value encountered in cdouble_scalars\n",
      "  ((((2 ** 8) * k1 * ((x2 * k3 * x4) ** 2 ) * k5 ) \\\n"
     ]
    },
    {
     "name": "stdout",
     "output_type": "stream",
     "text": [
      "1.315418832472011\n"
     ]
    },
    {
     "data": {
      "image/png": "[encoded data removed]",
      "text/plain": [
       "<Figure size 640x480 with 1 Axes>"
      ]
     },
     "metadata": {},
     "output_type": "display_data"
    }
   ],
   "source": [
    "\n",
    "E = np.arange(0.0, 1.4, 0.0001)\n",
    "T_at_E = tuple(T_at(Ei) for Ei in E)\n",
    "\n",
    "print(max(T_at_E))\n",
    "\n",
    "plt.plot(E, T_at_E, label=f'T(E)')\n",
    "plt.legend()\n",
    "plt.show()"
   ]
  },
  {
   "cell_type": "markdown",
   "metadata": {},
   "source": [
    "2. Represent in a graph the obtained results for the transmission\n",
    "   coefficient and obtain the energy of the possible well resonances that\n",
    "   would correspond to the energy of the electron bound states inside\n",
    "   the well. See Fig.3 as an example."
   ]
  },
  {
   "cell_type": "code",
   "execution_count": 56,
   "metadata": {},
   "outputs": [],
   "source": [
    "# T_ = T(k1, k3, k5, x2, x4, w2, w3, w4)"
   ]
  },
  {
   "cell_type": "markdown",
   "metadata": {},
   "source": [
    "## 4.2.Transmission of an asymmetric double barrier"
   ]
  },
  {
   "cell_type": "markdown",
   "metadata": {},
   "source": [
    "1. Case (a) Unequal double barrier (see Fig. 9)\n",
    "   Using the previous computer program, repeat the calculation for the\n",
    "   asymmetric double barrier using the same electron masses. Use the\n",
    "   parameters presented in Fig. 9. Represent the transmission coefficient\n",
    "   vs energy and obtain the resonances. "
   ]
  },
  {
   "cell_type": "code",
   "execution_count": 57,
   "metadata": {},
   "outputs": [],
   "source": [
    "\n",
    "def T2_at(E):\n",
    "    V2 = 0.5\n",
    "    V4 = 1.13\n",
    "    m = 0.067 * me\n",
    "\n",
    "    k1 = k3 = k5 = k(E, 0, m)\n",
    "    x2 = X(E, V2, m)\n",
    "    x4 = X(E, V4, m)\n",
    "    w2 = 4e-9\n",
    "    w3 = 3.6e-9\n",
    "    w4 = 3e-9\n",
    "\n",
    "    return T(k1, k3, k5, x2, x4, w2, w3, w4)"
   ]
  },
  {
   "cell_type": "code",
   "execution_count": 58,
   "metadata": {},
   "outputs": [
    {
     "name": "stderr",
     "output_type": "stream",
     "text": [
      "C:\\Users\\luisg\\AppData\\Local\\Temp\\ipykernel_21468\\2234539345.py:10: RuntimeWarning: overflow encountered in exp\n",
      "  np.exp(x2 * w2 + x4 * w4) \\\n",
      "C:\\Users\\luisg\\AppData\\Local\\Temp\\ipykernel_21468\\2234539345.py:14: RuntimeWarning: overflow encountered in exp\n",
      "  + np.exp(- x2 * w2 + x4 * w4) \\\n",
      "C:\\Users\\luisg\\AppData\\Local\\Temp\\ipykernel_21468\\2234539345.py:10: RuntimeWarning: invalid value encountered in cdouble_scalars\n",
      "  np.exp(x2 * w2 + x4 * w4) \\\n",
      "C:\\Users\\luisg\\AppData\\Local\\Temp\\ipykernel_21468\\2234539345.py:25: RuntimeWarning: invalid value encountered in cdouble_scalars\n",
      "  ((((2 ** 8) * k1 * ((x2 * k3 * x4) ** 2 ) * k5 ) \\\n",
      "C:\\Users\\luisg\\AppData\\Local\\Temp\\ipykernel_21468\\2234539345.py:22: RuntimeWarning: invalid value encountered in cdouble_scalars\n",
      "  Ksq = K_.conjugate() * K_\n",
      "C:\\Users\\luisg\\AppData\\Local\\Temp\\ipykernel_21468\\2234539345.py:26: RuntimeWarning: invalid value encountered in cdouble_scalars\n",
      "  / (Ksq * (k1**2 + x2**2) * (k3**2 + x2**2) * (k3**2 + x4**2) * (k5**2 + x4**2)))).real\n"
     ]
    },
    {
     "name": "stdout",
     "output_type": "stream",
     "text": [
      "nan\n"
     ]
    },
    {
     "name": "stderr",
     "output_type": "stream",
     "text": [
      "C:\\Users\\luisg\\AppData\\Local\\Temp\\ipykernel_21468\\453482231.py:10: RuntimeWarning: invalid value encountered in sqrt\n",
      "  return np.sqrt(2 * m * (V - E)) / hbar\n"
     ]
    },
    {
     "data": {
      "image/png": "[encoded data removed]",
      "text/plain": [
       "<Figure size 640x480 with 1 Axes>"
      ]
     },
     "metadata": {},
     "output_type": "display_data"
    }
   ],
   "source": [
    "\n",
    "E = np.arange(0.08, 0.52, 0.0001)\n",
    "T2_at_E = tuple(T2_at(Ei) for Ei in E)\n",
    "\n",
    "print(max(T2_at_E))\n",
    "\n",
    "plt.plot(E, T2_at_E, label=f'T(E)')\n",
    "plt.legend()\n",
    "plt.show()"
   ]
  },
  {
   "cell_type": "markdown",
   "metadata": {},
   "source": [
    "2. Case (b) External bias (see Fig. 10)\n",
    "   Repeat the calculation but now apply a uniform electric field across\n",
    "   the double barrier and single well structure as shown in the Fig. 10.\n",
    "   Consider that the right barrier is 3 nm thick, the left one 4 nm thick\n",
    "   and the well width is 4 nm. The right-hand edge of the 3 nm-thick\n",
    "   barrier is at a potential −0_63eV below the left-hand edge of the 4 nm-thick barrier. Comment on the changes in transmission you\n",
    "   observe."
   ]
  },
  {
   "cell_type": "code",
   "execution_count": 59,
   "metadata": {},
   "outputs": [],
   "source": [
    "w2 = 4e-9\n",
    "w4 = 3e-9"
   ]
  },
  {
   "cell_type": "code",
   "execution_count": 60,
   "metadata": {},
   "outputs": [],
   "source": [
    "\n",
    "def V(x: float) -> float:\n",
    "    \"\"\"Computes the potential of the exercise.\n",
    "\n",
    "    Parameters\n",
    "    ----------\n",
    "    x : float\n",
    "        Position in `m` at which the potential is computed.\n",
    "\n",
    "    Returns\n",
    "    -------\n",
    "    float\n",
    "        Potential in `eV`.\n",
    "    \"\"\"\n",
    "\n",
    "    if x < 1e-9:\n",
    "        return 0\n",
    "\n",
    "    elif 1e-9 <= x < 5e-9:\n",
    "        return 0.4  # Mean of the top vertices of the potential barrier\n",
    "\n",
    "    elif 5e-9 <= x < 9e-9:  # Recycling the start of the second potential barrier from the last potential.\n",
    "        return -0.4 # Mean of the bottom vertices of the potential barrier\n",
    "\n",
    "    elif 9e-9 <= x < 12e-9:\n",
    "        return 0.6\n",
    "\n",
    "    else:\n",
    "        return -0.63\n"
   ]
  },
  {
   "cell_type": "code",
   "execution_count": 61,
   "metadata": {},
   "outputs": [
    {
     "data": {
      "image/png": "[encoded data removed]",
      "text/plain": [
       "<Figure size 640x480 with 1 Axes>"
      ]
     },
     "metadata": {},
     "output_type": "display_data"
    }
   ],
   "source": [
    "x_ = np.arange(0e-9, 15e-9, 0.0025e-9)\n",
    "plt.plot(x_, [V(xi) for xi in x_], label=f'V(x)')\n",
    "plt.legend()\n",
    "plt.show()"
   ]
  },
  {
   "cell_type": "code",
   "execution_count": 62,
   "metadata": {},
   "outputs": [],
   "source": [
    "\n",
    "def T3_at(E):\n",
    "    m = 0.067 * me\n",
    "\n",
    "    k1 = k3 = k5 = k(E, 0, m)\n",
    "    x2 = X(E, V2, m)\n",
    "    x4 = X(E, V4, m)\n",
    "    w2 = 4e-9\n",
    "    w3 = 3.6e-9\n",
    "    w4 = 3e-9\n",
    "\n",
    "    return T(k1, k3, k5, x2, x4, w2, w3, w4)"
   ]
  },
  {
   "cell_type": "code",
   "execution_count": 63,
   "metadata": {},
   "outputs": [
    {
     "name": "stderr",
     "output_type": "stream",
     "text": [
      "C:\\Users\\luisg\\AppData\\Local\\Temp\\ipykernel_21468\\2234539345.py:10: RuntimeWarning: overflow encountered in exp\n",
      "  np.exp(x2 * w2 + x4 * w4) \\\n",
      "C:\\Users\\luisg\\AppData\\Local\\Temp\\ipykernel_21468\\2234539345.py:14: RuntimeWarning: overflow encountered in exp\n",
      "  + np.exp(- x2 * w2 + x4 * w4) \\\n",
      "C:\\Users\\luisg\\AppData\\Local\\Temp\\ipykernel_21468\\2234539345.py:10: RuntimeWarning: invalid value encountered in cdouble_scalars\n",
      "  np.exp(x2 * w2 + x4 * w4) \\\n",
      "C:\\Users\\luisg\\AppData\\Local\\Temp\\ipykernel_21468\\2234539345.py:25: RuntimeWarning: invalid value encountered in cdouble_scalars\n",
      "  ((((2 ** 8) * k1 * ((x2 * k3 * x4) ** 2 ) * k5 ) \\\n",
      "C:\\Users\\luisg\\AppData\\Local\\Temp\\ipykernel_21468\\2234539345.py:22: RuntimeWarning: invalid value encountered in cdouble_scalars\n",
      "  Ksq = K_.conjugate() * K_\n",
      "C:\\Users\\luisg\\AppData\\Local\\Temp\\ipykernel_21468\\2234539345.py:26: RuntimeWarning: invalid value encountered in cdouble_scalars\n",
      "  / (Ksq * (k1**2 + x2**2) * (k3**2 + x2**2) * (k3**2 + x4**2) * (k5**2 + x4**2)))).real\n",
      "C:\\Users\\luisg\\AppData\\Local\\Temp\\ipykernel_21468\\453482231.py:10: RuntimeWarning: invalid value encountered in sqrt\n",
      "  return np.sqrt(2 * m * (V - E)) / hbar\n"
     ]
    },
    {
     "name": "stdout",
     "output_type": "stream",
     "text": [
      "nan\n"
     ]
    },
    {
     "data": {
      "image/png": "[encoded data removed]",
      "text/plain": [
       "<Figure size 640x480 with 1 Axes>"
      ]
     },
     "metadata": {},
     "output_type": "display_data"
    }
   ],
   "source": [
    "\n",
    "E = np.arange(0.08, 0.52, 0.0001)\n",
    "T3_at_E = tuple(T2_at(Ei) for Ei in E)\n",
    "\n",
    "print(max(T3_at_E))\n",
    "\n",
    "plt.plot(E, T3_at_E, label=f'T(E)')\n",
    "plt.legend()\n",
    "plt.show()"
   ]
  }
 ],
 "metadata": {
  "kernelspec": {
   "display_name": "Python 3.10.4 ('venv': venv)",
   "language": "python",
   "name": "python3"
  },
  "language_info": {
   "codemirror_mode": {
    "name": "ipython",
    "version": 3
   },
   "file_extension": ".py",
   "mimetype": "text/x-python",
   "name": "python",
   "nbconvert_exporter": "python",
   "pygments_lexer": "ipython3",
   "version": "3.10.4"
  },
  "orig_nbformat": 4,
  "vscode": {
   "interpreter": {
    "hash": "cd68861b3e32dc0043a3433851ca0320a673bf15c3418406ff01b128fe6f247c"
   }
  }
 },
 "nbformat": 4,
 "nbformat_minor": 2
}
