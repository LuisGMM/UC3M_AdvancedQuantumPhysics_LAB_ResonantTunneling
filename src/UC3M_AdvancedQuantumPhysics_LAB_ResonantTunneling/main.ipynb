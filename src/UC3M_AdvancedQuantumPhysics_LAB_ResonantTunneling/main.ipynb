{
 "cells": [
  {
   "cell_type": "code",
   "execution_count": null,
   "metadata": {},
   "outputs": [],
   "source": [
    "import math\n",
    "\n",
    "from math import exp\n",
    "import numpy as np"
   ]
  },
  {
   "cell_type": "code",
   "execution_count": null,
   "metadata": {},
   "outputs": [],
   "source": [
    "k1 = k3 = k5 = 0\n",
    "\n",
    "x2 = x4 = 0\n",
    "\n",
    "w2 = w4 = 0\n",
    "\n",
    "i = 1j\n",
    "\n",
    "phi1 = phi2 = phi3 = phi4 = phi5 = 0"
   ]
  },
  {
   "cell_type": "code",
   "execution_count": null,
   "metadata": {},
   "outputs": [],
   "source": [
    "me = 9.1093837e-31  # Kg\n",
    "hbar = 1.054571817e-34  # Js\n",
    "\n",
    "def k(E, V, m=me):\n",
    "    return math.sqrt(2 * m * (E - V)) / hbar\n",
    "\n",
    "def x(E, V, m=me):\n",
    "    return math.sqrt(2 * m * (V - E)) / hbar"
   ]
  },
  {
   "cell_type": "code",
   "execution_count": null,
   "metadata": {},
   "outputs": [],
   "source": [
    "\n",
    "K = exp(x2 * w2 + x4 * w4) \\\n",
    "    * (exp(i * (- phi1 + phi2 + phi3 + phi4 + phi5)) - exp(i * (phi1 + phi2 - phi3 - phi4 + phi5))) \\\n",
    "    + exp(x2 * w2 - x4 * w4) \\\n",
    "    * (- exp(i * (- phi1 + phi2 + phi3 - phi4 - phi5)) + exp(i * (phi1 + phi2 - phi3 + phi4 - phi5))) \\\n",
    "    + exp(- x2 * w2 + x4 * w4) \\\n",
    "    * (- exp(i * (- phi1 - phi2 - phi3 + phi4 + phi5)) + exp(i * (phi1 - phi2 + phi3 - phi4 + phi5))) \\\n",
    "    + exp(- x2 * w2 - x4 * w4) \\\n",
    "    * (- exp(i * (- phi1 - phi2 - phi3 - phi4 - phi5)) + exp(i * (phi1 - phi2 + phi3 + phi4 - phi5)))\n",
    "\n",
    "Kconj = np.conj\n",
    "\n",
    "Ksq = 0"
   ]
  },
  {
   "cell_type": "code",
   "execution_count": null,
   "metadata": {},
   "outputs": [],
   "source": [
    "T = ((2 ** 8) * k1 * ((x2 * k3 * x4) ** 2 ) * k5 ) / (Ksq * (k1**2 + x2**2) * (k3**2 + x2**2) * (k3**2 + x4**2) * (k5**2 + x4**2))"
   ]
  }
 ],
 "metadata": {
  "kernelspec": {
   "display_name": "Python 3.10.4 ('venv': venv)",
   "language": "python",
   "name": "python3"
  },
  "language_info": {
   "name": "python",
   "version": "3.10.4"
  },
  "orig_nbformat": 4,
  "vscode": {
   "interpreter": {
    "hash": "cd68861b3e32dc0043a3433851ca0320a673bf15c3418406ff01b128fe6f247c"
   }
  }
 },
 "nbformat": 4,
 "nbformat_minor": 2
}
